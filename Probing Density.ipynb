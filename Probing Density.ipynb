{
 "cells": [
  {
   "cell_type": "markdown",
   "metadata": {},
   "source": [
    "# Probing Density"
   ]
  },
  {
   "cell_type": "code",
   "execution_count": 1,
   "metadata": {},
   "outputs": [],
   "source": [
    "import matplotlib.pyplot as plt\n",
    "import random"
   ]
  },
  {
   "cell_type": "markdown",
   "metadata": {},
   "source": [
    "On a 1-dimensional interval [0,1] there exists $n$ points. We know nothing about how the dots are spread out or how many of them there are.\n",
    "\n",
    "We have one tool to our disposal: a probe. We can give the probe a position $x \\in [0,1]$ and it will return the coordinates to the closest left and right dots. We define it as $probe(x): x \\in [0,1] \\rightarrow (l,r)$ where $l,r \\in [0,1]$.\n",
    "\n",
    "Our task is to approximate the number of dots that's present in the interval. Remember that we can assume nothing about the distribution of dots, as they are placed *arbitrarily*."
   ]
  },
  {
   "cell_type": "markdown",
   "metadata": {},
   "source": [
    "### The Probe Function\n",
    "The probe function looks through the list of (sorted) generated dots and finds the dots left and right of the probed position."
   ]
  },
  {
   "cell_type": "code",
   "execution_count": 2,
   "metadata": {},
   "outputs": [],
   "source": [
    "def probe(x, dots):\n",
    "    N = len(dots)\n",
    "    for i, dot in enumerate(dots[:-1]):\n",
    "        if x > dot:\n",
    "            continue\n",
    "        else:\n",
    "            if i - 1 < 0:\n",
    "                l = None\n",
    "                r = dots[i]\n",
    "            else:\n",
    "                l = dots[i]\n",
    "                r = dots[i+1]\n",
    "\n",
    "            return (l,r)\n",
    "            \n",
    "    # If we get to the end there's no dots left of x\n",
    "    return (dots[-1], None)"
   ]
  },
  {
   "cell_type": "markdown",
   "metadata": {},
   "source": [
    "### The Interval"
   ]
  },
  {
   "cell_type": "markdown",
   "metadata": {},
   "source": [
    "Let's visualize the interval with dots by placing 50 dots in a uniform random fashion."
   ]
  },
  {
   "cell_type": "code",
   "execution_count": 3,
   "metadata": {},
   "outputs": [],
   "source": [
    "plt.rcParams[\"figure.figsize\"] = (20,5)\n",
    "random.seed(1337)"
   ]
  },
  {
   "cell_type": "code",
   "execution_count": 4,
   "metadata": {},
   "outputs": [
    {
     "data": {
      "image/png": "[encoded data removed]",
      "text/plain": [
       "<Figure size 1440x360 with 1 Axes>"
      ]
     },
     "metadata": {
      "needs_background": "light"
     },
     "output_type": "display_data"
    }
   ],
   "source": [
    "N = 50\n",
    "dots = [random.uniform(0,1) for i in range(N)]\n",
    "dots.sort()\n",
    "y = [0 for i in range(N)]\n",
    "plt.hlines(0,0,1, alpha=0.3)\n",
    "plt.scatter(dots, y, s=50, facecolors='none', edgecolors='r')\n",
    "plt.title('Our beautiful interval')\n",
    "plt.show()"
   ]
  },
  {
   "cell_type": "markdown",
   "metadata": {},
   "source": [
    "### A Simple Approach"
   ]
  },
  {
   "cell_type": "markdown",
   "metadata": {},
   "source": [
    "One metric is the mean distance between points, $\\bar{d}$. The inverse of $\\bar{d}$ can be used to approximate the number of points $\\bar{n} = 1 / \\bar{d}$. \n",
    "\n",
    "One approach is to simply probe the line $k$ times and try to get a mean distance between the dots."
   ]
  },
  {
   "cell_type": "code",
   "execution_count": 5,
   "metadata": {},
   "outputs": [],
   "source": [
    "import numpy as np\n",
    "\n",
    "def simple_probing(k):\n",
    "    distances = []\n",
    "    for i in range(k):\n",
    "        x = random.uniform(0,1)\n",
    "        l,r = probe(x, dots)\n",
    "\n",
    "        # For now we skip edges\n",
    "        if l and r:\n",
    "            d = r - l\n",
    "            distances.append(d)\n",
    "\n",
    "    dists = np.array(distances)\n",
    "    d_mean = dists.mean()\n",
    "    return 1 / d_mean\n"
   ]
  },
  {
   "cell_type": "markdown",
   "metadata": {},
   "source": [
    "Let's run the simple probing algorithm and see some approximations"
   ]
  },
  {
   "cell_type": "code",
   "execution_count": 8,
   "metadata": {},
   "outputs": [
    {
     "name": "stdout",
     "output_type": "stream",
     "text": [
      "Sample Distribution Mean: 62.26\n",
      "Sample Distribution STD: 2.16\n"
     ]
    }
   ],
   "source": [
    "approximations = []\n",
    "for i in range(100):\n",
    "    n_approx = simple_probing(1000)\n",
    "    approximations.append(n_approx)\n",
    "\n",
    "sd_mean = np.array(approximations).mean();\n",
    "sd_std = np.array(approximations).std();\n",
    "print(\"Sample Distribution Mean: %.2f\" % sd_mean)\n",
    "print(\"Sample Distribution STD: %.2f\" % sd_std)"
   ]
  },
  {
   "cell_type": "markdown",
   "metadata": {},
   "source": [
    "Okay, not very nice"
   ]
  },
  {
   "cell_type": "markdown",
   "metadata": {},
   "source": [
    "### Interval Inception"
   ]
  },
  {
   "cell_type": "markdown",
   "metadata": {},
   "source": [
    "Let's try to divide the interval into... more intervals! And maybe our accuracy will improve.\n",
    "\n",
    "![InceptionURL](https://media.giphy.com/media/lBtI8rRETmQMg/giphy.gif \"inception\")"
   ]
  },
  {
   "cell_type": "code",
   "execution_count": null,
   "metadata": {},
   "outputs": [],
   "source": []
  }
 ],
 "metadata": {
  "kernelspec": {
   "display_name": "Python 3",
   "language": "python",
   "name": "python3"
  },
  "language_info": {
   "codemirror_mode": {
    "name": "ipython",
    "version": 3
   },
   "file_extension": ".py",
   "mimetype": "text/x-python",
   "name": "python",
   "nbconvert_exporter": "python",
   "pygments_lexer": "ipython3",
   "version": "3.6.9"
  }
 },
 "nbformat": 4,
 "nbformat_minor": 2
}
