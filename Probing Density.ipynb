{
 "cells": [
  {
   "cell_type": "markdown",
   "metadata": {},
   "source": [
    "# Probing Density"
   ]
  },
  {
   "cell_type": "code",
   "execution_count": 265,
   "metadata": {},
   "outputs": [],
   "source": [
    "import matplotlib.pyplot as plt\n",
    "import random\n",
    "random.seed(1337)"
   ]
  },
  {
   "cell_type": "markdown",
   "metadata": {},
   "source": [
    "On a 1-dimensional interval [0,1] there exists $n$ points. We know nothing the distribution of dots or how many of them there are. However, we do know that there's a minimum distance $d$ between the dots. This is given to us as prior information.\n",
    "\n",
    "We have one tool to our disposal: a probe. We can give the probe a position $x \\in [0,1]$ and it will return the coordinates to the closest left and right dots. We define it as $probe(x): x \\in [0,1] \\rightarrow (l,r)$ where $l,r \\in [0,1]$.\n",
    "\n",
    "Our task is to approximate the number of dots that's present in the interval. Remember that we can assume nothing about the distribution of dots, as they are placed *arbitrarily*."
   ]
  },
  {
   "cell_type": "markdown",
   "metadata": {},
   "source": [
    "### The Probe Function\n",
    "The probe function looks through the list of (sorted) generated dots and finds the dots left and right of the probed position."
   ]
  },
  {
   "cell_type": "code",
   "execution_count": 2,
   "metadata": {},
   "outputs": [],
   "source": [
    "def probe(x, dots):\n",
    "    N = len(dots)\n",
    "    for i, dot in enumerate(dots[:-1]):\n",
    "        if x > dot:\n",
    "            continue\n",
    "        else:\n",
    "            if i - 1 < 0:\n",
    "                l = None\n",
    "                r = dots[i]\n",
    "            else:\n",
    "                l = dots[i]\n",
    "                r = dots[i+1]\n",
    "\n",
    "            return (l,r)\n",
    "            \n",
    "    # If we get to the end there's no dots left of x\n",
    "    return (dots[-1], None)"
   ]
  },
  {
   "cell_type": "markdown",
   "metadata": {},
   "source": [
    "### The Interval"
   ]
  },
  {
   "cell_type": "markdown",
   "metadata": {},
   "source": [
    "Let's visualize the interval with dots by placing 50 dots in a uniform random fashion. With the contraint that a point cannot be closer than $d$ from any other point. We'll set $d = 0.05$ for now "
   ]
  },
  {
   "cell_type": "code",
   "execution_count": 307,
   "metadata": {},
   "outputs": [
    {
     "data": {
      "image/png": "[encoded data removed]",
      "text/plain": [
       "<Figure size 1440x576 with 1 Axes>"
      ]
     },
     "metadata": {
      "needs_background": "light"
     },
     "output_type": "display_data"
    }
   ],
   "source": [
    "N = 50\n",
    "d = 0.01\n",
    "def generate_dots(N, d):\n",
    "    dots = []\n",
    "    for i in range(N):\n",
    "        # not the most efficient but will do for now\n",
    "        dots.sort()\n",
    "\n",
    "        if len(dots) < 1:\n",
    "            x = random.uniform(0,1)\n",
    "            dots.append(x)\n",
    "            continue\n",
    "        \n",
    "        too_close = True\n",
    "        while too_close:\n",
    "            x = random.uniform(0,1)\n",
    "            too_close = False\n",
    "            for dot in dots:\n",
    "                if abs(x - dot) < d:\n",
    "                    too_close = True\n",
    "                    break\n",
    "            \n",
    "            if not too_close:\n",
    "                dots.append(x)\n",
    "\n",
    "    return dots\n",
    "\n",
    "dots = generate_dots(N,d)\n",
    "\n",
    "y = [0 for i in range(N)]\n",
    "plt.figure(figsize=(20,8))\n",
    "plt.hlines(0,0,1, alpha=0.3)\n",
    "plt.scatter(dots, y, s=50, facecolors='none', edgecolors='r')\n",
    "plt.title('Our beautiful interval')\n",
    "plt.show()"
   ]
  },
  {
   "cell_type": "code",
   "execution_count": 308,
   "metadata": {},
   "outputs": [
    {
     "name": "stdout",
     "output_type": "stream",
     "text": [
      "Min distance: 0.010\n",
      "Max distance: 0.852\n"
     ]
    }
   ],
   "source": [
    "dts = np.array(dots)\n",
    "dts2 = np.roll(np.copy(dts), -1)\n",
    "diff = np.abs(dts-dts2)\n",
    "diff = diff[:-1]\n",
    "min_dist = diff.min()\n",
    "max_dist = diff.max()\n",
    "print(\"Min distance: %.3f\" % min_dist)\n",
    "print(\"Max distance: %.3f\" % max_dist)"
   ]
  },
  {
   "cell_type": "markdown",
   "metadata": {},
   "source": [
    "## A Simple Randomized Approach"
   ]
  },
  {
   "cell_type": "markdown",
   "metadata": {},
   "source": [
    "One metric is the mean distance between points, $\\bar{d}$. The inverse of $\\bar{d}$ can be used to approximate the number of points $\\bar{n} = 1 / \\bar{d}$. \n",
    "\n",
    "One approach is to simply probe the line $k$ times and try to get a mean distance between the dots."
   ]
  },
  {
   "cell_type": "code",
   "execution_count": 309,
   "metadata": {},
   "outputs": [],
   "source": [
    "import numpy as np\n",
    "dots.sort()\n",
    "\n",
    "def simple_probing(k, a, b):\n",
    "    distances = []\n",
    "    \n",
    "    for i in range(k):\n",
    "        x = random.uniform(a,b)\n",
    "        l,r = probe(x, dots)\n",
    "        # For now we skip edges\n",
    "        if l and r:\n",
    "            d = r - l\n",
    "            distances.append(d)\n",
    "\n",
    "    if len(distances):\n",
    "        dists = np.array(distances)\n",
    "        d_mean = dists.mean()\n",
    "        return 1 / d_mean\n",
    "    else:\n",
    "        return 0\n"
   ]
  },
  {
   "cell_type": "markdown",
   "metadata": {},
   "source": [
    "Let's run the simple probing algorithm and see some approximations"
   ]
  },
  {
   "cell_type": "code",
   "execution_count": 310,
   "metadata": {},
   "outputs": [
    {
     "name": "stdout",
     "output_type": "stream",
     "text": [
      "Sample Distribution Mean: 47.56\n",
      "Sample Distribution STD: 0.66\n"
     ]
    }
   ],
   "source": [
    "approximations = []\n",
    "for i in range(100):\n",
    "    n_approx = simple_probing(1000, 0, 1)\n",
    "    approximations.append(n_approx)\n",
    "\n",
    "aprx = np.array(approximations)\n",
    "sd_mean = aprx.mean();\n",
    "sd_std = aprx.std();\n",
    "print(\"Sample Distribution Mean: %.2f\" % sd_mean)\n",
    "print(\"Sample Distribution STD: %.2f\" % sd_std)"
   ]
  },
  {
   "cell_type": "code",
   "execution_count": 314,
   "metadata": {},
   "outputs": [
    {
     "data": {
      "image/png": "[encoded data removed]",
      "text/plain": [
       "<Figure size 1080x576 with 1 Axes>"
      ]
     },
     "metadata": {
      "needs_background": "light"
     },
     "output_type": "display_data"
    }
   ],
   "source": [
    "import seaborn as sns\n",
    "plt.figure(figsize=(15,8))\n",
    "line_height = 0.6\n",
    "sns.distplot(aprx);\n",
    "plt.vlines(N, 0, line_height, colors='r', label='True number of dots')\n",
    "plt.vlines(aprx.mean(), 0, line_height, colors='g', label='Sample Distribution Mean')\n",
    "plt.legend()\n",
    "plt.show()"
   ]
  },
  {
   "cell_type": "markdown",
   "metadata": {},
   "source": [
    "Looks pretty neat! The barplot makes it look like we're ways off, but in reality we are not."
   ]
  },
  {
   "cell_type": "markdown",
   "metadata": {},
   "source": [
    "## Interval Inception"
   ]
  },
  {
   "cell_type": "markdown",
   "metadata": {},
   "source": [
    "Let's try to divide the interval into... more intervals! And maybe our accuracy will improve.\n",
    "\n",
    "![InceptionURL](https://media.giphy.com/media/lBtI8rRETmQMg/giphy.gif \"inception\")"
   ]
  },
  {
   "cell_type": "markdown",
   "metadata": {},
   "source": [
    "Let's divide the main interval into $m$ subintervals and probe each of them separately."
   ]
  },
  {
   "cell_type": "code",
   "execution_count": 315,
   "metadata": {},
   "outputs": [
    {
     "name": "stdout",
     "output_type": "stream",
     "text": [
      "Run 1 : 495.040\n",
      "Run 2 : 496.013\n",
      "Run 3 : 496.383\n",
      "Run 4 : 495.670\n",
      "Run 5 : 494.717\n",
      "Run 6 : 494.845\n",
      "Run 7 : 497.060\n",
      "Run 8 : 500.900\n",
      "Run 9 : 493.248\n",
      "Run 10 : 496.902\n"
     ]
    }
   ],
   "source": [
    "def create_intervals(m):\n",
    "    step = 1 / m\n",
    "    interval_borders = np.arange(0,1 + step, step).round(3)\n",
    "    intervals = [(i,j) for i,j in zip(interval_borders, interval_borders[1:])]\n",
    "    return intervals\n",
    "\n",
    "\n",
    "n_runs = 10\n",
    "n_intervals = 10\n",
    "results = []\n",
    "for i in range(n_runs):\n",
    "    intervals = create_intervals(n_intervals)\n",
    "    interval_approximations = []\n",
    "    for (a,b) in intervals:\n",
    "        intv_approx = simple_probing(k,a,b)\n",
    "        interval_approximations.append(intv_approx)\n",
    "    \n",
    "    np_ia = np.array(interval_approximations)\n",
    "    n_approx = np_ia.sum()\n",
    "    print(\"Run %d : %.3f\" % (i+1, n_approx))\n",
    "    results.append(n_approx)"
   ]
  },
  {
   "cell_type": "markdown",
   "metadata": {},
   "source": [
    "Interesting! When the dots are uniform we get an overshoot by the amount of interals."
   ]
  },
  {
   "cell_type": "code",
   "execution_count": null,
   "metadata": {},
   "outputs": [],
   "source": []
  }
 ],
 "metadata": {
  "kernelspec": {
   "display_name": "Python 3",
   "language": "python",
   "name": "python3"
  },
  "language_info": {
   "codemirror_mode": {
    "name": "ipython",
    "version": 3
   },
   "file_extension": ".py",
   "mimetype": "text/x-python",
   "name": "python",
   "nbconvert_exporter": "python",
   "pygments_lexer": "ipython3",
   "version": "3.6.9"
  }
 },
 "nbformat": 4,
 "nbformat_minor": 2
}
